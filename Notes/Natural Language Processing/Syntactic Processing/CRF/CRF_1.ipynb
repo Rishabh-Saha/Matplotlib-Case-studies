{
 "cells": [
  {
   "cell_type": "markdown",
   "id": "a46dd380",
   "metadata": {},
   "source": [
    "For this demo, we will use the [MIT Restaurant Corpus](https://groups.csail.mit.edu/sls/downloads/restaurant/) -- a dataset of transcriptions of spoken utterances about restaurants.\n",
    "\n",
    "The dataset has following entity types:\n",
    "\n",
    "* 'B-Rating'\n",
    "* 'I-Rating',\n",
    "* 'B-Amenity',\n",
    "* 'I-Amenity',\n",
    "* 'B-Location',\n",
    "* 'I-Location',\n",
    "* 'B-Restaurant_Name',\n",
    "* 'I-Restaurant_Name',\n",
    "* 'B-Price',\n",
    "* 'B-Hours',\n",
    "* 'I-Hours',\n",
    "* 'B-Dish',\n",
    "* 'I-Dish',\n",
    "* 'B-Cuisine',\n",
    "* 'I-Price',\n",
    "* 'I-Cuisine'\n",
    "\n",
    "Let us load the dataset and see what are we working with."
   ]
  },
  {
   "cell_type": "code",
   "execution_count": 12,
   "id": "70e38a25",
   "metadata": {},
   "outputs": [],
   "source": [
    "with open('sent_train', 'r') as train_sent_file:\n",
    "  train_sentences = train_sent_file.readlines()\n",
    "\n",
    "with open('label_train', 'r') as train_labels_file:\n",
    "  train_labels = train_labels_file.readlines()\n",
    "\n",
    "with open('sent_test', 'r') as test_sent_file:\n",
    "  test_sentences = test_sent_file.readlines()\n",
    "\n",
    "with open('label_test', 'r') as test_labels_file:\n",
    "  test_labels = test_labels_file.readlines()\n"
   ]
  },
  {
   "cell_type": "code",
   "execution_count": 13,
   "id": "1db7b2ca",
   "metadata": {},
   "outputs": [
    {
     "name": "stdout",
     "output_type": "stream",
     "text": [
      "any good ice cream parlors around \n",
      "\n",
      "O B-Rating B-Cuisine I-Cuisine I-Cuisine B-Location \n",
      "\n"
     ]
    }
   ],
   "source": [
    "# Print the 6th sentence in the test set i.e. index value 5.\n",
    "print(test_sentences[5])\n",
    "\n",
    "# Print the labels of this sentence\n",
    "print(test_labels[5])"
   ]
  },
  {
   "cell_type": "markdown",
   "id": "74c0b557",
   "metadata": {},
   "source": [
    "# Defining Features for Custom NER"
   ]
  },
  {
   "cell_type": "code",
   "execution_count": 14,
   "id": "437a327d",
   "metadata": {},
   "outputs": [
    {
     "name": "stdout",
     "output_type": "stream",
     "text": [
      "Requirement already satisfied: pycrf in /opt/anaconda3/lib/python3.11/site-packages (0.0.1)\n",
      "Requirement already satisfied: sklearn-crfsuite in /opt/anaconda3/lib/python3.11/site-packages (0.5.0)\n",
      "Requirement already satisfied: python-crfsuite>=0.9.7 in /opt/anaconda3/lib/python3.11/site-packages (from sklearn-crfsuite) (0.9.11)\n",
      "Requirement already satisfied: scikit-learn>=0.24.0 in /opt/anaconda3/lib/python3.11/site-packages (from sklearn-crfsuite) (1.2.2)\n",
      "Requirement already satisfied: tabulate>=0.4.2 in /opt/anaconda3/lib/python3.11/site-packages (from sklearn-crfsuite) (0.9.0)\n",
      "Requirement already satisfied: tqdm>=2.0 in /opt/anaconda3/lib/python3.11/site-packages (from sklearn-crfsuite) (4.65.0)\n",
      "Requirement already satisfied: numpy>=1.17.3 in /opt/anaconda3/lib/python3.11/site-packages (from scikit-learn>=0.24.0->sklearn-crfsuite) (1.26.4)\n",
      "Requirement already satisfied: scipy>=1.3.2 in /opt/anaconda3/lib/python3.11/site-packages (from scikit-learn>=0.24.0->sklearn-crfsuite) (1.10.1)\n",
      "Requirement already satisfied: joblib>=1.1.1 in /opt/anaconda3/lib/python3.11/site-packages (from scikit-learn>=0.24.0->sklearn-crfsuite) (1.2.0)\n",
      "Requirement already satisfied: threadpoolctl>=2.0.0 in /opt/anaconda3/lib/python3.11/site-packages (from scikit-learn>=0.24.0->sklearn-crfsuite) (2.2.0)\n"
     ]
    }
   ],
   "source": [
    "# Installing required modules\n",
    "!pip install pycrf\n",
    "!pip install sklearn-crfsuite"
   ]
  },
  {
   "cell_type": "markdown",
   "id": "aa3d199c",
   "metadata": {},
   "source": [
    "We have defined the following features for CRF model building:\n",
    "\n",
    "- f1 = input word is in lower case; \n",
    "- f2 = last 3 characters of word;\n",
    "- f3 = last 2 characers of word;\n",
    "- f4 = 1; if the word is in uppercase, 0 otherwise;\n",
    "- f5 = 1; if word is a number; otherwise, 0 \n",
    "- f6= 1; if the word starts with a capital letter; otherwise, "
   ]
  },
  {
   "cell_type": "code",
   "execution_count": 53,
   "id": "f1d79825",
   "metadata": {},
   "outputs": [],
   "source": [
    "# Define a function to get the above defined features of a word\n",
    "\n",
    "def getFeaturesForOneWord(sentence, pos):\n",
    "    word = sentence[pos]\n",
    "\n",
    "    features = [\n",
    "        'word.lower=' + word.lower(), # serves as word id\n",
    "        'word[-3:]=' + word[-3:], # last 3 characters\n",
    "        'word[-2:]=' + word[-2:], # last 2 characters\n",
    "        'word.isupper=%s' % word.isupper(), # is upper case\n",
    "        'word.isdigit=%s' % word.isdigit(), # is digit\n",
    "        'word.startsWithCapital=%s' % word[0].isupper(), # starts with capital\n",
    "    ]\n",
    "\n",
    "    if pos > 0:\n",
    "        prev_word = sentence[pos - 1]\n",
    "        features.extend([\n",
    "            'prev_word.lower=' + prev_word.lower(), # previous word\n",
    "            'prev_word.isupper=%s' % prev_word.isupper(), # is upper case\n",
    "            'prev_word.isdigit=%s' % prev_word.isdigit(), # is digit\n",
    "            'prev_word.startsWithCapital=%s' % prev_word[0].isupper(), # starts with capital\n",
    "        ])\n",
    "    else:\n",
    "        features.append('BEG') # beginning of the sentence\n",
    "        \n",
    "    if pos == len(sentence) - 1:\n",
    "        features.append('END') # feature to track end of sentence\n",
    "        \n",
    "    return features"
   ]
  },
  {
   "cell_type": "code",
   "execution_count": 54,
   "id": "073cb188",
   "metadata": {},
   "outputs": [
    {
     "name": "stdout",
     "output_type": "stream",
     "text": [
      "2 start restaurants with inside dining \n",
      "\n"
     ]
    },
    {
     "data": {
      "text/plain": [
       "['word.lower=places',\n",
       " 'word[-3:]=ces',\n",
       " 'word[-2:]=es',\n",
       " 'word.isupper=False',\n",
       " 'word.isdigit=False',\n",
       " 'word.startsWithCapital=False',\n",
       " 'prev_word.lower=2',\n",
       " 'prev_word.isupper=False',\n",
       " 'prev_word.isdigit=True',\n",
       " 'prev_word.startsWithCapital=False']"
      ]
     },
     "execution_count": 54,
     "metadata": {},
     "output_type": "execute_result"
    }
   ],
   "source": [
    "print(train_sentences[0])\n",
    "getFeaturesForOneWord(\"2 places that serves soft serve ice cream\".split(\" \"), 1)"
   ]
  },
  {
   "cell_type": "markdown",
   "id": "dfbcff00",
   "metadata": {},
   "source": [
    "## Computing Features"
   ]
  },
  {
   "cell_type": "code",
   "execution_count": 63,
   "id": "9073779c",
   "metadata": {},
   "outputs": [],
   "source": [
    "# Define a fucntion to get features for a sentence\n",
    "# using the already defined 'getFeaturesForOneWord' function\n",
    "\n",
    "def getFeaturesForOneSentence(sentence):\n",
    "    sentence = sentence.split()\n",
    "    return [getFeaturesForOneWord(sentence, index) for index in range(len(sentence))]"
   ]
  },
  {
   "cell_type": "code",
   "execution_count": 64,
   "id": "9ea80f62",
   "metadata": {},
   "outputs": [],
   "source": [
    "# Degine a function to get the labels for a sentence\n",
    "def getLabelsForOneSentence(labels):\n",
    "    return labels.split()"
   ]
  },
  {
   "cell_type": "code",
   "execution_count": 65,
   "id": "45ca2fcb",
   "metadata": {},
   "outputs": [
    {
     "name": "stdout",
     "output_type": "stream",
     "text": [
      "a place that serves soft serve ice cream \n",
      "\n"
     ]
    },
    {
     "data": {
      "text/plain": [
       "[['word.lower=a',\n",
       "  'word[-3:]=a',\n",
       "  'word[-2:]=a',\n",
       "  'word.isupper=False',\n",
       "  'word.isdigit=False',\n",
       "  'word.startsWithCapital=False',\n",
       "  'BEG'],\n",
       " ['word.lower=place',\n",
       "  'word[-3:]=ace',\n",
       "  'word[-2:]=ce',\n",
       "  'word.isupper=False',\n",
       "  'word.isdigit=False',\n",
       "  'word.startsWithCapital=False',\n",
       "  'prev_word.lower=a',\n",
       "  'prev_word.isupper=False',\n",
       "  'prev_word.isdigit=False',\n",
       "  'prev_word.startsWithCapital=False'],\n",
       " ['word.lower=that',\n",
       "  'word[-3:]=hat',\n",
       "  'word[-2:]=at',\n",
       "  'word.isupper=False',\n",
       "  'word.isdigit=False',\n",
       "  'word.startsWithCapital=False',\n",
       "  'prev_word.lower=place',\n",
       "  'prev_word.isupper=False',\n",
       "  'prev_word.isdigit=False',\n",
       "  'prev_word.startsWithCapital=False'],\n",
       " ['word.lower=serves',\n",
       "  'word[-3:]=ves',\n",
       "  'word[-2:]=es',\n",
       "  'word.isupper=False',\n",
       "  'word.isdigit=False',\n",
       "  'word.startsWithCapital=False',\n",
       "  'prev_word.lower=that',\n",
       "  'prev_word.isupper=False',\n",
       "  'prev_word.isdigit=False',\n",
       "  'prev_word.startsWithCapital=False'],\n",
       " ['word.lower=soft',\n",
       "  'word[-3:]=oft',\n",
       "  'word[-2:]=ft',\n",
       "  'word.isupper=False',\n",
       "  'word.isdigit=False',\n",
       "  'word.startsWithCapital=False',\n",
       "  'prev_word.lower=serves',\n",
       "  'prev_word.isupper=False',\n",
       "  'prev_word.isdigit=False',\n",
       "  'prev_word.startsWithCapital=False'],\n",
       " ['word.lower=serve',\n",
       "  'word[-3:]=rve',\n",
       "  'word[-2:]=ve',\n",
       "  'word.isupper=False',\n",
       "  'word.isdigit=False',\n",
       "  'word.startsWithCapital=False',\n",
       "  'prev_word.lower=soft',\n",
       "  'prev_word.isupper=False',\n",
       "  'prev_word.isdigit=False',\n",
       "  'prev_word.startsWithCapital=False'],\n",
       " ['word.lower=ice',\n",
       "  'word[-3:]=ice',\n",
       "  'word[-2:]=ce',\n",
       "  'word.isupper=False',\n",
       "  'word.isdigit=False',\n",
       "  'word.startsWithCapital=False',\n",
       "  'prev_word.lower=serve',\n",
       "  'prev_word.isupper=False',\n",
       "  'prev_word.isdigit=False',\n",
       "  'prev_word.startsWithCapital=False'],\n",
       " ['word.lower=cream',\n",
       "  'word[-3:]=eam',\n",
       "  'word[-2:]=am',\n",
       "  'word.isupper=False',\n",
       "  'word.isdigit=False',\n",
       "  'word.startsWithCapital=False',\n",
       "  'prev_word.lower=ice',\n",
       "  'prev_word.isupper=False',\n",
       "  'prev_word.isdigit=False',\n",
       "  'prev_word.startsWithCapital=False',\n",
       "  'END']]"
      ]
     },
     "execution_count": 65,
     "metadata": {},
     "output_type": "execute_result"
    }
   ],
   "source": [
    "example_sentence = train_sentences[5]\n",
    "print(example_sentence)\n",
    "getFeaturesForOneSentence(example_sentence)"
   ]
  },
  {
   "cell_type": "code",
   "execution_count": 66,
   "id": "b365ed7a",
   "metadata": {},
   "outputs": [],
   "source": [
    "# Get the features and labels for the training set and test set\n",
    "\n",
    "X_train = [getFeaturesForOneSentence(sentence) for sentence in train_sentences]\n",
    "Y_train = [getLabelsForOneSentence(labels) for labels in train_labels]\n",
    "\n",
    "X_test = [getFeaturesForOneSentence(sentence) for sentence in test_sentences]\n",
    "Y_test = [getLabelsForOneSentence(labels) for labels in test_labels]"
   ]
  },
  {
   "cell_type": "code",
   "execution_count": 67,
   "id": "fb216038",
   "metadata": {},
   "outputs": [
    {
     "data": {
      "text/plain": [
       "(7660, 7660, 1521, 1521)"
      ]
     },
     "execution_count": 67,
     "metadata": {},
     "output_type": "execute_result"
    }
   ],
   "source": [
    "len(X_train), len(Y_train), len(X_test), len(Y_test)"
   ]
  },
  {
   "cell_type": "code",
   "execution_count": 68,
   "id": "259c2ceb",
   "metadata": {},
   "outputs": [
    {
     "data": {
      "text/plain": [
       "([['word.lower=2',\n",
       "   'word[-3:]=2',\n",
       "   'word[-2:]=2',\n",
       "   'word.isupper=False',\n",
       "   'word.isdigit=True',\n",
       "   'word.startsWithCapital=False',\n",
       "   'BEG'],\n",
       "  ['word.lower=start',\n",
       "   'word[-3:]=art',\n",
       "   'word[-2:]=rt',\n",
       "   'word.isupper=False',\n",
       "   'word.isdigit=False',\n",
       "   'word.startsWithCapital=False',\n",
       "   'prev_word.lower=2',\n",
       "   'prev_word.isupper=False',\n",
       "   'prev_word.isdigit=True',\n",
       "   'prev_word.startsWithCapital=False'],\n",
       "  ['word.lower=restaurants',\n",
       "   'word[-3:]=nts',\n",
       "   'word[-2:]=ts',\n",
       "   'word.isupper=False',\n",
       "   'word.isdigit=False',\n",
       "   'word.startsWithCapital=False',\n",
       "   'prev_word.lower=start',\n",
       "   'prev_word.isupper=False',\n",
       "   'prev_word.isdigit=False',\n",
       "   'prev_word.startsWithCapital=False'],\n",
       "  ['word.lower=with',\n",
       "   'word[-3:]=ith',\n",
       "   'word[-2:]=th',\n",
       "   'word.isupper=False',\n",
       "   'word.isdigit=False',\n",
       "   'word.startsWithCapital=False',\n",
       "   'prev_word.lower=restaurants',\n",
       "   'prev_word.isupper=False',\n",
       "   'prev_word.isdigit=False',\n",
       "   'prev_word.startsWithCapital=False'],\n",
       "  ['word.lower=inside',\n",
       "   'word[-3:]=ide',\n",
       "   'word[-2:]=de',\n",
       "   'word.isupper=False',\n",
       "   'word.isdigit=False',\n",
       "   'word.startsWithCapital=False',\n",
       "   'prev_word.lower=with',\n",
       "   'prev_word.isupper=False',\n",
       "   'prev_word.isdigit=False',\n",
       "   'prev_word.startsWithCapital=False'],\n",
       "  ['word.lower=dining',\n",
       "   'word[-3:]=ing',\n",
       "   'word[-2:]=ng',\n",
       "   'word.isupper=False',\n",
       "   'word.isdigit=False',\n",
       "   'word.startsWithCapital=False',\n",
       "   'prev_word.lower=inside',\n",
       "   'prev_word.isupper=False',\n",
       "   'prev_word.isdigit=False',\n",
       "   'prev_word.startsWithCapital=False',\n",
       "   'END']],\n",
       " ['B-Rating', 'I-Rating', 'O', 'O', 'B-Amenity', 'I-Amenity'])"
      ]
     },
     "execution_count": 68,
     "metadata": {},
     "output_type": "execute_result"
    }
   ],
   "source": [
    "X_train[0], Y_train[0]"
   ]
  },
  {
   "cell_type": "markdown",
   "id": "bff476ef",
   "metadata": {},
   "source": [
    "CRF Model Training"
   ]
  },
  {
   "cell_type": "code",
   "execution_count": 69,
   "id": "3660b683",
   "metadata": {},
   "outputs": [],
   "source": [
    "import sklearn_crfsuite\n",
    "from sklearn_crfsuite import metrics"
   ]
  },
  {
   "cell_type": "code",
   "execution_count": 70,
   "id": "cfb14414",
   "metadata": {},
   "outputs": [
    {
     "data": {
      "text/html": [
       "<style>#sk-container-id-1 {color: black;background-color: white;}#sk-container-id-1 pre{padding: 0;}#sk-container-id-1 div.sk-toggleable {background-color: white;}#sk-container-id-1 label.sk-toggleable__label {cursor: pointer;display: block;width: 100%;margin-bottom: 0;padding: 0.3em;box-sizing: border-box;text-align: center;}#sk-container-id-1 label.sk-toggleable__label-arrow:before {content: \"▸\";float: left;margin-right: 0.25em;color: #696969;}#sk-container-id-1 label.sk-toggleable__label-arrow:hover:before {color: black;}#sk-container-id-1 div.sk-estimator:hover label.sk-toggleable__label-arrow:before {color: black;}#sk-container-id-1 div.sk-toggleable__content {max-height: 0;max-width: 0;overflow: hidden;text-align: left;background-color: #f0f8ff;}#sk-container-id-1 div.sk-toggleable__content pre {margin: 0.2em;color: black;border-radius: 0.25em;background-color: #f0f8ff;}#sk-container-id-1 input.sk-toggleable__control:checked~div.sk-toggleable__content {max-height: 200px;max-width: 100%;overflow: auto;}#sk-container-id-1 input.sk-toggleable__control:checked~label.sk-toggleable__label-arrow:before {content: \"▾\";}#sk-container-id-1 div.sk-estimator input.sk-toggleable__control:checked~label.sk-toggleable__label {background-color: #d4ebff;}#sk-container-id-1 div.sk-label input.sk-toggleable__control:checked~label.sk-toggleable__label {background-color: #d4ebff;}#sk-container-id-1 input.sk-hidden--visually {border: 0;clip: rect(1px 1px 1px 1px);clip: rect(1px, 1px, 1px, 1px);height: 1px;margin: -1px;overflow: hidden;padding: 0;position: absolute;width: 1px;}#sk-container-id-1 div.sk-estimator {font-family: monospace;background-color: #f0f8ff;border: 1px dotted black;border-radius: 0.25em;box-sizing: border-box;margin-bottom: 0.5em;}#sk-container-id-1 div.sk-estimator:hover {background-color: #d4ebff;}#sk-container-id-1 div.sk-parallel-item::after {content: \"\";width: 100%;border-bottom: 1px solid gray;flex-grow: 1;}#sk-container-id-1 div.sk-label:hover label.sk-toggleable__label {background-color: #d4ebff;}#sk-container-id-1 div.sk-serial::before {content: \"\";position: absolute;border-left: 1px solid gray;box-sizing: border-box;top: 0;bottom: 0;left: 50%;z-index: 0;}#sk-container-id-1 div.sk-serial {display: flex;flex-direction: column;align-items: center;background-color: white;padding-right: 0.2em;padding-left: 0.2em;position: relative;}#sk-container-id-1 div.sk-item {position: relative;z-index: 1;}#sk-container-id-1 div.sk-parallel {display: flex;align-items: stretch;justify-content: center;background-color: white;position: relative;}#sk-container-id-1 div.sk-item::before, #sk-container-id-1 div.sk-parallel-item::before {content: \"\";position: absolute;border-left: 1px solid gray;box-sizing: border-box;top: 0;bottom: 0;left: 50%;z-index: -1;}#sk-container-id-1 div.sk-parallel-item {display: flex;flex-direction: column;z-index: 1;position: relative;background-color: white;}#sk-container-id-1 div.sk-parallel-item:first-child::after {align-self: flex-end;width: 50%;}#sk-container-id-1 div.sk-parallel-item:last-child::after {align-self: flex-start;width: 50%;}#sk-container-id-1 div.sk-parallel-item:only-child::after {width: 0;}#sk-container-id-1 div.sk-dashed-wrapped {border: 1px dashed gray;margin: 0 0.4em 0.5em 0.4em;box-sizing: border-box;padding-bottom: 0.4em;background-color: white;}#sk-container-id-1 div.sk-label label {font-family: monospace;font-weight: bold;display: inline-block;line-height: 1.2em;}#sk-container-id-1 div.sk-label-container {text-align: center;}#sk-container-id-1 div.sk-container {/* jupyter's `normalize.less` sets `[hidden] { display: none; }` but bootstrap.min.css set `[hidden] { display: none !important; }` so we also need the `!important` here to be able to override the default hidden behavior on the sphinx rendered scikit-learn.org. See: https://github.com/scikit-learn/scikit-learn/issues/21755 */display: inline-block !important;position: relative;}#sk-container-id-1 div.sk-text-repr-fallback {display: none;}</style><div id=\"sk-container-id-1\" class=\"sk-top-container\"><div class=\"sk-text-repr-fallback\"><pre>CRF(max_iterations=100)</pre><b>In a Jupyter environment, please rerun this cell to show the HTML representation or trust the notebook. <br />On GitHub, the HTML representation is unable to render, please try loading this page with nbviewer.org.</b></div><div class=\"sk-container\" hidden><div class=\"sk-item\"><div class=\"sk-estimator sk-toggleable\"><input class=\"sk-toggleable__control sk-hidden--visually\" id=\"sk-estimator-id-1\" type=\"checkbox\" checked><label for=\"sk-estimator-id-1\" class=\"sk-toggleable__label sk-toggleable__label-arrow\">CRF</label><div class=\"sk-toggleable__content\"><pre>CRF(max_iterations=100)</pre></div></div></div></div></div>"
      ],
      "text/plain": [
       "CRF(max_iterations=100)"
      ]
     },
     "execution_count": 70,
     "metadata": {},
     "output_type": "execute_result"
    }
   ],
   "source": [
    "crf = sklearn_crfsuite.CRF(max_iterations=100)\n",
    "crf.fit(X_train, Y_train)"
   ]
  },
  {
   "cell_type": "markdown",
   "id": "a01a7354",
   "metadata": {},
   "source": [
    "Model Testing and evaluation"
   ]
  },
  {
   "cell_type": "code",
   "execution_count": 71,
   "id": "84e5416f",
   "metadata": {},
   "outputs": [
    {
     "data": {
      "text/plain": [
       "0.8744887733818438"
      ]
     },
     "execution_count": 71,
     "metadata": {},
     "output_type": "execute_result"
    }
   ],
   "source": [
    "Y_pred = crf.predict(X_test)\n",
    "metrics.flat_f1_score(Y_test, Y_pred, average='weighted')"
   ]
  },
  {
   "cell_type": "code",
   "execution_count": null,
   "id": "8828625e",
   "metadata": {},
   "outputs": [
    {
     "name": "stdout",
     "output_type": "stream",
     "text": [
      "Sentence:  any places around here that has a nice view \n",
      "\n",
      "Orig Labels:  ['O', 'O', 'B-Location', 'I-Location', 'O', 'O', 'O', 'B-Amenity', 'I-Amenity']\n",
      "Predicted Labels:  ['O', 'O', 'B-Location', 'I-Location', 'O', 'O', 'O', 'B-Amenity', 'I-Amenity']\n"
     ]
    }
   ],
   "source": [
    "id = 10\n",
    "print(\"Sentence: \", test_sentences[id])\n",
    "print(\"Orig Labels: \", Y_test[id])\n",
    "print(\"Predicted Labels: \", Y_pred[id])"
   ]
  },
  {
   "cell_type": "markdown",
   "id": "59f772e8",
   "metadata": {},
   "source": [
    "Transitions Learned by CRF"
   ]
  },
  {
   "cell_type": "code",
   "execution_count": 79,
   "id": "87416065",
   "metadata": {},
   "outputs": [],
   "source": [
    "from util import print_top_likely_transitions\n",
    "from util import print_top_unlikely_transitions"
   ]
  },
  {
   "cell_type": "code",
   "execution_count": 80,
   "id": "48165fd7",
   "metadata": {},
   "outputs": [
    {
     "name": "stdout",
     "output_type": "stream",
     "text": [
      "B-Restaurant_Name -> I-Restaurant_Name 6.803175\n",
      "B-Location -> I-Location 6.730945\n",
      "B-Amenity -> I-Amenity 6.621640\n",
      "I-Location -> I-Location 6.436021\n",
      "I-Amenity -> I-Amenity 6.254962\n",
      "B-Dish -> I-Dish  5.904813\n",
      "B-Hours -> I-Hours 5.892986\n",
      "I-Restaurant_Name -> I-Restaurant_Name 5.845391\n",
      "B-Cuisine -> I-Cuisine 5.538447\n",
      "I-Hours -> I-Hours 5.437972\n"
     ]
    }
   ],
   "source": [
    "print_top_likely_transitions(crf.transition_features_)"
   ]
  },
  {
   "cell_type": "code",
   "execution_count": 81,
   "id": "c71d5fa2",
   "metadata": {},
   "outputs": [
    {
     "name": "stdout",
     "output_type": "stream",
     "text": [
      "B-Restaurant_Name -> I-Restaurant_Name 6.803175\n",
      "B-Location -> I-Location 6.730945\n",
      "B-Amenity -> I-Amenity 6.621640\n",
      "I-Location -> I-Location 6.436021\n",
      "I-Amenity -> I-Amenity 6.254962\n",
      "B-Dish -> I-Dish  5.904813\n",
      "B-Hours -> I-Hours 5.892986\n",
      "I-Restaurant_Name -> I-Restaurant_Name 5.845391\n",
      "B-Cuisine -> I-Cuisine 5.538447\n",
      "I-Hours -> I-Hours 5.437972\n"
     ]
    }
   ],
   "source": [
    "print_top_likely_transitions(crf.transition_features_)"
   ]
  }
 ],
 "metadata": {
  "kernelspec": {
   "display_name": "base",
   "language": "python",
   "name": "python3"
  },
  "language_info": {
   "codemirror_mode": {
    "name": "ipython",
    "version": 3
   },
   "file_extension": ".py",
   "mimetype": "text/x-python",
   "name": "python",
   "nbconvert_exporter": "python",
   "pygments_lexer": "ipython3",
   "version": "3.11.7"
  }
 },
 "nbformat": 4,
 "nbformat_minor": 5
}
