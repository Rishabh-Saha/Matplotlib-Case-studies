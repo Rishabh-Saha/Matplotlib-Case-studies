{
 "cells": [
  {
   "cell_type": "code",
   "execution_count": 1,
   "metadata": {
    "collapsed": true
   },
   "outputs": [],
   "source": [
    "import re\n",
    "from collections import Counter"
   ]
  },
  {
   "cell_type": "code",
   "execution_count": 2,
   "metadata": {
    "collapsed": true
   },
   "outputs": [],
   "source": [
    "# function to tokenise words\n",
    "def words(document):\n",
    "    \"Convert text to lower case and tokenise the document\"\n",
    "    return re.findall(r'\\w+', document.lower())"
   ]
  },
  {
   "cell_type": "code",
   "execution_count": 9,
   "metadata": {
    "collapsed": true
   },
   "outputs": [],
   "source": [
    "# create a frequency table of all the words of the document\n",
    "import requests\n",
    "url = \"https://cdn.upgrad.com/UpGrad/temp/6ab6e37f-147a-4388-9cf2-254151347ded/big.txt\"\n",
    "bigTxt = requests.get(url)\n",
    "bigTxt = bigTxt.text\n",
    "all_words = Counter(words(bigTxt))"
   ]
  },
  {
   "cell_type": "code",
   "execution_count": 10,
   "metadata": {},
   "outputs": [
    {
     "data": {
      "text/plain": [
       "135"
      ]
     },
     "execution_count": 10,
     "metadata": {},
     "output_type": "execute_result"
    }
   ],
   "source": [
    "# check frequency of a random word, say, 'chair'\n",
    "all_words['chair']"
   ]
  },
  {
   "cell_type": "code",
   "execution_count": 11,
   "metadata": {},
   "outputs": [
    {
     "data": {
      "text/plain": [
       "[('the', 79809),\n",
       " ('of', 40024),\n",
       " ('and', 38312),\n",
       " ('to', 28765),\n",
       " ('in', 22023),\n",
       " ('a', 21124),\n",
       " ('that', 12512),\n",
       " ('he', 12401),\n",
       " ('was', 11410),\n",
       " ('it', 10681)]"
      ]
     },
     "execution_count": 11,
     "metadata": {},
     "output_type": "execute_result"
    }
   ],
   "source": [
    "# look at top 10 frequent words\n",
    "all_words.most_common(10)"
   ]
  },
  {
   "cell_type": "code",
   "execution_count": 12,
   "metadata": {
    "collapsed": true
   },
   "outputs": [],
   "source": [
    "def edits_one(word):\n",
    "    \"Create all edits that are one edit away from `word`.\"\n",
    "    alphabets    = 'abcdefghijklmnopqrstuvwxyz'\n",
    "    splits     = [(word[:i], word[i:])                   for i in range(len(word) + 1)]\n",
    "    deletes    = [left + right[1:]                       for left, right in splits if right]\n",
    "    inserts    = [left + c + right                       for left, right in splits for c in alphabets]\n",
    "    replaces   = [left + c + right[1:]                   for left, right in splits if right for c in alphabets]\n",
    "    transposes = [left + right[1] + right[0] + right[2:] for left, right in splits if len(right)>1]\n",
    "    return set(deletes + inserts + replaces + transposes)"
   ]
  },
  {
   "cell_type": "code",
   "execution_count": 13,
   "metadata": {
    "collapsed": true
   },
   "outputs": [],
   "source": [
    "def edits_two(word):\n",
    "    \"Create all edits that are two edits away from `word`.\"\n",
    "    return (e2 for e1 in edits_one(word) for e2 in edits_one(e1))"
   ]
  },
  {
   "cell_type": "code",
   "execution_count": 14,
   "metadata": {
    "collapsed": true
   },
   "outputs": [],
   "source": [
    "def known(words):\n",
    "    \"The subset of `words` that appear in the `all_words`.\"\n",
    "    return set(word for word in words if word in all_words)"
   ]
  },
  {
   "cell_type": "markdown",
   "metadata": {},
   "source": [
    "possible_corrections\n",
    "\n",
    "- It first checks if the word is correct or not, i.e. if the word typed by the user is a present in the dictionary or not. If the word is present, it returns no spelling suggestions since it is already a correct dictionary word.\n",
    "\n",
    "- If the user types a word which is not a dictionary word, then it creates a list of all the known words that are one edit distance away. If there are no valid words in the list created by edits_one() only then this function fetches a list of all known words that are two edits away from the input word\n",
    "\n",
    "- If there are no known words that are two edits away, then the function returns the  original input word. This means that there are no alternatives that the spell corrector could find. Hence, it simply returns the original word."
   ]
  },
  {
   "cell_type": "code",
   "execution_count": 27,
   "metadata": {
    "collapsed": true
   },
   "outputs": [],
   "source": [
    "def possible_corrections(word):\n",
    "    \"Generate possible spelling corrections for word.\"\n",
    "    return (known([word]) or known(edits_one(word)) or known(edits_two(word)) or [word])"
   ]
  },
  {
   "cell_type": "markdown",
   "metadata": {},
   "source": [
    "prob \n",
    "- The function returns the probability of an input word. This is exactly why you need a seed document instead of a dictionary."
   ]
  },
  {
   "cell_type": "code",
   "execution_count": 16,
   "metadata": {
    "collapsed": true
   },
   "outputs": [],
   "source": [
    "def prob(word, N=sum(all_words.values())): \n",
    "    \"Probability of `word`: Number of appearances of 'word' / total number of tokens\"\n",
    "    return all_words[word] / N"
   ]
  },
  {
   "cell_type": "code",
   "execution_count": null,
   "metadata": {},
   "outputs": [
    {
     "name": "stdout",
     "output_type": "stream",
     "text": [
      "442\n",
      "{'monneo', 'monnhy', 'gmonney', 'mnonney', 'mronney', 'moncney', 'mnney', 'eonney', 'konney', 'mwonney', 'mohney', 'monngy', 'qmonney', 'zmonney', 'moqney', 'mononey', 'motney', 'monnuey', 'minney', 'monneyg', 'monneyn', 'lmonney', 'mdonney', 'dmonney', 'monjey', 'monnfy', 'honney', 'menney', 'moneney', 'uonney', 'movney', 'muonney', 'monmney', 'monnjy', 'mopney', 'mofney', 'molney', 'montey', 'monnew', 'moznney', 'mlnney', 'monpney', 'mmonney', 'monnmy', 'monhney', 'monniy', 'monneyd', 'monneya', 'meonney', 'monsney', 'mowney', 'monneay', 'mvnney', 'msnney', 'mvonney', 'monnvy', 'monne', 'monnley', 'monneuy', 'lonney', 'monlney', 'monfney', 'monoey', 'monndey', 'zonney', 'molnney', 'pmonney', 'monnexy', 'monnea', 'mosnney', 'monhey', 'maonney', 'tmonney', 'jmonney', 'mocney', 'monbey', 'mtonney', 'monnyy', 'monnny', 'mondney', 'monjney', 'mocnney', 'tonney', 'monnecy', 'monnef', 'moyney', 'monneyy', 'amonney', 'msonney', 'mqnney', 'monuney', 'mokney', 'monnewy', 'mmnney', 'manney', 'mownney', 'monnxey', 'monmey', 'mfnney', 'moxnney', 'mqonney', 'monvey', 'monnry', 'mopnney', 'moneey', 'kmonney', 'monrney', 'mouney', 'yonney', 'mrnney', 'monner', 'monnejy', 'monnmey', 'monnrey', 'vmonney', 'mbnney', 'mongney', 'moxney', 'mosney', 'mounney', 'mofnney', 'monnzy', 'monneey', 'monneyt', 'monqney', 'monnqey', 'monneym', 'monnky', 'monbney', 'monneyj', 'monnemy', 'monnevy', 'monniey', 'moniey', 'money', 'monkney', 'moneny', 'bmonney', 'vonney', 'monxey', 'fonney', 'mojnney', 'monnefy', 'imonney', 'monneyh', 'monnay', 'moiney', 'monneny', 'monneb', 'mnnney', 'mpnney', 'monnoey', 'monnvey', 'monnez', 'mtnney', 'monwney', 'umonney', 'monneyi', 'monnei', 'monneq', 'monneg', 'monkey', 'monneoy', 'monneqy', 'wonney', 'monnex', 'mgnney', 'monneyb', 'moinney', 'monneys', 'mknney', 'wmonney', 'monnery', 'montney', 'monngey', 'ponney', 'monnney', 'mondey', 'mdnney', 'moqnney', 'hmonney', 'monnes', 'monneye', 'mwnney', 'monnej', 'mooney', 'monnee', 'qonney', 'conney', 'monneyp', 'monnuy', 'monneyr', 'xonney', 'moknney', 'monnoy', 'mponney', 'monntey', 'onney', 'monley', 'monnel', 'monneu', 'monneyo', 'modnney', 'monqey', 'moncey', 'monxney', 'monnety', 'monzey', 'mojney', 'moynney', 'monnby', 'mznney', 'omnney', 'monnen', 'monndy', 'mcnney', 'monneyz', 'monnedy', 'omonney', 'monyey', 'monnaey', 'monneyx', 'monrey', 'moonney', 'emonney', 'nmonney', 'bonney', 'munney', 'sonney', 'monsey', 'monncey', 'monnqy', 'monnezy', 'oonney', 'mlonney', 'xmonney', 'mobnney', 'monncy', 'monnpy', 'monnkey', 'monnye', 'mjonney', 'mhnney', 'monnehy', 'mionney', 'monneiy', 'monnly', 'nonney', 'motnney', 'monnpey', 'monnzey', 'mfonney', 'monned', 'monneyu', 'moanney', 'monneyc', 'monnyey', 'modney', 'monneyf', 'cmonney', 'myonney', 'monneyl', 'mongey', 'monnjey', 'monnegy', 'monneby', 'mobney', 'moaney', 'monaey', 'monwey', 'morney', 'monney', 'monnek', 'mbonney', 'aonney', 'monnwy', 'gonney', 'ronney', 'monnep', 'jonney', 'smonney', 'moeney', 'momnney', 'monneyv', 'mornney', 'mgonney', 'monnec', 'monnhey', 'monpey', 'monnbey', 'mohnney', 'rmonney', 'ymonney', 'monneky', 'monnem', 'monzney', 'monyney', 'mognney', 'monnsy', 'monnwey', 'monnepy', 'monneyw', 'mozney', 'moenney', 'monnsey', 'mhonney', 'monneyq', 'monnty', 'mjnney', 'monnely', 'mynney', 'monnev', 'moniney', 'monvney', 'mnoney', 'mogney', 'monuey', 'movnney', 'monneyk', 'monaney', 'monny', 'mkonney', 'mconney', 'mxonney', 'monnesy', 'ionney', 'donney', 'monnfey', 'monnet', 'mzonney', 'momney', 'mxnney', 'monfey', 'monneh', 'fmonney', 'monnxy'}\n"
     ]
    }
   ],
   "source": [
    "print(len(set(edits_one(\"monney\"))))\n",
    "print(edits_one(\"monney\"))"
   ]
  },
  {
   "cell_type": "code",
   "execution_count": 18,
   "metadata": {},
   "outputs": [
    {
     "name": "stdout",
     "output_type": "stream",
     "text": [
      "{'monkey', 'money'}\n"
     ]
    }
   ],
   "source": [
    "print(known(edits_one(\"monney\")))"
   ]
  },
  {
   "cell_type": "code",
   "execution_count": null,
   "metadata": {},
   "outputs": [
    {
     "name": "stdout",
     "output_type": "stream",
     "text": [
      "90902\n",
      "set()\n"
     ]
    }
   ],
   "source": [
    "# Let's look at words that are two edits away\n",
    "print(len(set(edits_two(\"monney\"))))\n",
    "print(known(edits_one(\"monney\")))"
   ]
  },
  {
   "cell_type": "code",
   "execution_count": 26,
   "metadata": {},
   "outputs": [
    {
     "name": "stdout",
     "output_type": "stream",
     "text": [
      "{'emphasize'}\n"
     ]
    }
   ],
   "source": [
    "# Let's look at possible corrections of a word\n",
    "print(possible_corrections(\"emfasize\"))"
   ]
  },
  {
   "cell_type": "code",
   "execution_count": 21,
   "metadata": {},
   "outputs": [
    {
     "name": "stdout",
     "output_type": "stream",
     "text": [
      "0.0002922233626303688\n",
      "5.378344097491451e-06\n"
     ]
    }
   ],
   "source": [
    "# Let's look at probability of a word\n",
    "print(prob(\"money\"))\n",
    "print(prob(\"monkey\"))"
   ]
  },
  {
   "cell_type": "code",
   "execution_count": 22,
   "metadata": {},
   "outputs": [],
   "source": [
    "def spell_check(word):\n",
    "    \"Print the most probable spelling correction for `word` out of all the `possible_corrections`\"\n",
    "    correct_word = max(possible_corrections(word), key=prob)\n",
    "    if correct_word != word:\n",
    "        return \"Did you mean \" + correct_word + \"?\"\n",
    "    else:\n",
    "        return \"Correct spelling.\""
   ]
  },
  {
   "cell_type": "code",
   "execution_count": 23,
   "metadata": {},
   "outputs": [
    {
     "name": "stdout",
     "output_type": "stream",
     "text": [
      "Did you mean money?\n"
     ]
    }
   ],
   "source": [
    "# test spell check\n",
    "print(spell_check(\"monney\"))"
   ]
  }
 ],
 "metadata": {
  "kernelspec": {
   "display_name": "base",
   "language": "python",
   "name": "python3"
  },
  "language_info": {
   "codemirror_mode": {
    "name": "ipython",
    "version": 3
   },
   "file_extension": ".py",
   "mimetype": "text/x-python",
   "name": "python",
   "nbconvert_exporter": "python",
   "pygments_lexer": "ipython3",
   "version": "3.11.7"
  }
 },
 "nbformat": 4,
 "nbformat_minor": 2
}
